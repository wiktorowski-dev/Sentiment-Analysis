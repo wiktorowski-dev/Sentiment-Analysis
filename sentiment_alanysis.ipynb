{
 "cells": [
  {
   "cell_type": "code",
   "execution_count": 1,
   "metadata": {},
   "outputs": [
    {
     "name": "stdout",
     "output_type": "stream",
     "text": [
      "1\n"
     ]
    }
   ],
   "source": [
    "import pandas\n",
    "import json\n",
    "import multiprocessing"
   ]
  },
  {
   "cell_type": "code",
   "execution_count": 2,
   "metadata": {},
   "outputs": [],
   "source": [
    "path_to_file = r'D:\\s_a\\All_Amazon_Review.json'"
   ]
  },
  {
   "cell_type": "code",
   "execution_count": 8,
   "metadata": {
    "scrolled": false
   },
   "outputs": [],
   "source": [
    "# Slice large file to plenty of smaller ones\n",
    "\n",
    "out = []\n",
    "output_lines = 1200000\n",
    "output_file_path = r'D:\\s_a\\file_{}'\n",
    "i = 0\n",
    "with open(path_to_file) as file:\n",
    "    for line in file:\n",
    "        out.append(line)\n",
    "        if len(out) > output_lines:\n",
    "            print(i)\n",
    "            with open(output_file_path.format(i), mode='a') as file2:\n",
    "                file2.write(json.dumps(out))\n",
    "                i+=1\n",
    "                out = []\n",
    "    if len(out) != 0:\n",
    "        with open(output_file_path.format(i), mode='a') as file2:\n",
    "                file2.write(json.dumps(out))"
   ]
  },
  {
   "cell_type": "code",
   "execution_count": null,
   "metadata": {},
   "outputs": [],
   "source": [
    "# Preprocess data\n",
    "\n",
    "import pandas as pd\n",
    "import json\n",
    "import multiprocessing\n",
    "\n",
    "# Number of files\n",
    "files_in_folder = 194\n",
    "cores = 6\n",
    "input_file_path = r'D:\\s_a\\file_{}'\n",
    "\n",
    "files_name = [input_file_path.format(x) for x in range(files_in_folder + 1)]\n",
    "\n",
    "\n",
    "def json_to_csv(file_name):\n",
    "    print(file_name)\n",
    "    # Process data\n",
    "    # Please notice that we using same name of variable to decrease memory usage\n",
    "\n",
    "    with open(file_name) as f:\n",
    "        file = json.load(f)\n",
    "\n",
    "    # Unpack json rows\n",
    "    file = [json.loads(x) for x in file]\n",
    "\n",
    "    file = pd.DataFrame(file)\n",
    "\n",
    "    # Remvove unnecessary columns\n",
    "    file = file.filter(['overall', 'reviewText'])\n",
    "\n",
    "    # Rename columns\n",
    "    file = file.rename(columns={'overall': 'sentiment', 'reviewText': 'text'})\n",
    "\n",
    "    # Transorm 0-5 score, into positive/negative values\n",
    "    file.sentiment[file.sentiment.isin([4, 5])] = 'positive'\n",
    "    file.sentiment[file.sentiment.isin([0, 1, 2])] = 'negative'\n",
    "\n",
    "    # Remove values equal to 3\n",
    "    file = file[(file.sentiment != 3)]\n",
    "\n",
    "    # Write into csv file\n",
    "    file.to_csv(file_name, mode='w', index=False)\n",
    "\n",
    "\n",
    "if __name__ == '__main__':\n",
    "    with multiprocessing.Pool(cores) as p:\n",
    "        p.map(json_to_csv, files_name)"
   ]
  },
  {
   "cell_type": "code",
   "execution_count": 5,
   "metadata": {},
   "outputs": [],
   "source": [
    "# Resize files\n",
    "\n",
    "import pandas as pd\n",
    "\n",
    "files_in_folder = 194\n",
    "new_file_size = 8000000\n",
    "input_file_path = r'D:\\s_a\\file_{}'\n",
    "output_file_name = r'D:\\s_a\\file_large_{}'\n",
    "output_index = 0\n",
    "\n",
    "list_files_1 = [x for x in range(files_in_folder)]\n",
    "list_files_2 = [x for x in range(files_in_folder)]\n",
    "df2 = pd.DataFrame()\n",
    "\n",
    "for i in list_files_1:\n",
    "    print(i)\n",
    "    list_files_2.remove(i)\n",
    "    df1 = pd.read_csv(input_file_path.format(i))\n",
    "\n",
    "    # Get size of dataframes\n",
    "    length_df1 = df1.shape[0]\n",
    "    length_df2 = df2.shape[0]\n",
    "\n",
    "    if length_df2 + length_df1 > new_file_size:\n",
    "        # Add missing values to data frame to fill in the missing\n",
    "        df2 = pd.concat([df1[:new_file_size - length_df2], df2])\n",
    "        df1 = df1[new_file_size - length_df2:]\n",
    "        df2.to_csv(output_file_name.format(output_index), mode='a', index=False)\n",
    "        output_index += 1\n",
    "        df2 = pd.concat([df1])\n",
    "    else:\n",
    "        df2 = pd.concat([df1, df2])\n"
   ]
  },
  {
   "cell_type": "code",
   "execution_count": null,
   "metadata": {},
   "outputs": [],
   "source": [
    "import pandas as pd\n",
    "import time\n",
    "\n",
    "# Drop duplicates\n",
    "input_file_name = r'D:\\s_a\\file_large_{}'\n",
    "files_in_folder = 26\n",
    "new_file_size = 4000000\n",
    "list_files_1 = [x for x in range(files_in_folder)]\n",
    "list_files_2 = [x for x in range(files_in_folder)]\n",
    "\n",
    "tt = time.time()\n",
    "for i in list_files_1:\n",
    "    print(i)\n",
    "    list_files_2.remove(i)\n",
    "    df1 = pd.read_csv(input_file_name.format(i))\n",
    "    # Remove duplicated rows in data frame\n",
    "    df1 = df1.drop_duplicates()\n",
    "    \n",
    "    # Prepare positive list of sentences and filter them \n",
    "    pos1 = set(df1[df1.sentiment == 'positive']['text'])\n",
    "    pos1 = set(filter(lambda x: type(x) == str, pos1))\n",
    "    \n",
    "    # Prepare negative list of sentences and filter them \n",
    "    neg1 = set(df1[df1.sentiment == 'negative']['text'])\n",
    "    neg1 = set(filter(lambda x: type(x) == str, neg1))\n",
    "    \n",
    "    for i2 in list_files_2:\n",
    "        print('\\t{}'.format(i2))\n",
    "        df2 = pd.read_csv(input_file_name.format(i2))\n",
    "        df2 = df2.drop_duplicates()\n",
    "        pos2 = set(df2[df2.sentiment == 'positive']['text'])\n",
    "        neg2 = set(df2[df2.sentiment == 'negative']['text'])\n",
    "        \n",
    "        # Remove duplicates sentences \n",
    "        pos1 = pos1 - pos2\n",
    "        neg1 = neg1 - neg2\n",
    "\n",
    "    pos1 = [{'sentiment': 'positive', 'text': x} for x in pos1]\n",
    "    neg1 = [{'sentiment': 'negative', 'text': x} for x in neg1]\n",
    "    df1 = pd.DataFrame(pos1 + neg1)\n",
    "    df1.to_csv(input_file_name.format(i), mode='w', index=False)\n",
    "\n",
    "print(time.time()-tt)\n",
    "# 4h!"
   ]
  },
  {
   "cell_type": "code",
   "execution_count": null,
   "metadata": {},
   "outputs": [],
   "source": []
  },
  {
   "cell_type": "code",
   "execution_count": null,
   "metadata": {},
   "outputs": [],
   "source": []
  }
 ],
 "metadata": {
  "kernelspec": {
   "display_name": "Python 3",
   "language": "python",
   "name": "python3"
  },
  "language_info": {
   "codemirror_mode": {
    "name": "ipython",
    "version": 3
   },
   "file_extension": ".py",
   "mimetype": "text/x-python",
   "name": "python",
   "nbconvert_exporter": "python",
   "pygments_lexer": "ipython3",
   "version": "3.8.6"
  }
 },
 "nbformat": 4,
 "nbformat_minor": 4
}
